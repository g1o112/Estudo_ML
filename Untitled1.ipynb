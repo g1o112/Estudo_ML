{
  "nbformat": 4,
  "nbformat_minor": 0,
  "metadata": {
    "colab": {
      "provenance": [],
      "authorship_tag": "ABX9TyOi0PsplLSsaVe/EtRL4dKM",
      "include_colab_link": true
    },
    "kernelspec": {
      "name": "python3",
      "display_name": "Python 3"
    },
    "language_info": {
      "name": "python"
    }
  },
  "cells": [
    {
      "cell_type": "markdown",
      "metadata": {
        "id": "view-in-github",
        "colab_type": "text"
      },
      "source": [
        "<a href=\"https://colab.research.google.com/github/g1o112/Estudo_ML/blob/main/Untitled1.ipynb\" target=\"_parent\"><img src=\"https://colab.research.google.com/assets/colab-badge.svg\" alt=\"Open In Colab\"/></a>"
      ]
    },
    {
      "cell_type": "code",
      "execution_count": 1,
      "metadata": {
        "colab": {
          "base_uri": "https://localhost:8080/"
        },
        "id": "utE7kQwxpgBE",
        "outputId": "bbcdd02d-48da-47bc-e3d7-be390b1137e3"
      },
      "outputs": [
        {
          "output_type": "execute_result",
          "data": {
            "text/plain": [
              "23"
            ]
          },
          "metadata": {},
          "execution_count": 1
        }
      ],
      "source": [
        "from random import choice\n",
        "\n",
        "lista = [8, 12, 54, 23, 43, 1, 90, 87, 105, 77]\n",
        "\n",
        "escol = choice(lista)\n",
        "escol"
      ]
    },
    {
      "cell_type": "code",
      "source": [
        "from random import randrange as rd\n",
        "rd(100)"
      ],
      "metadata": {
        "colab": {
          "base_uri": "https://localhost:8080/"
        },
        "id": "UuXfV0_MpuFV",
        "outputId": "f4ed7c94-905c-4e9b-a466-cf4b38da34cf"
      },
      "execution_count": 2,
      "outputs": [
        {
          "output_type": "execute_result",
          "data": {
            "text/plain": [
              "67"
            ]
          },
          "metadata": {},
          "execution_count": 2
        }
      ]
    },
    {
      "cell_type": "code",
      "source": [
        "from math import pow"
      ],
      "metadata": {
        "id": "IsSySFjoqE_z"
      },
      "execution_count": 3,
      "outputs": []
    },
    {
      "cell_type": "code",
      "source": [
        "a = int(input('Primeiro nmr: '))\n",
        "b = int(input('Segundo nmr: '))\n",
        "\n",
        "c = pow(a, b)\n",
        "c"
      ],
      "metadata": {
        "colab": {
          "base_uri": "https://localhost:8080/"
        },
        "id": "BeerqEm5qkjB",
        "outputId": "ef09818f-9975-476f-99c7-107084a79b9e"
      },
      "execution_count": 4,
      "outputs": [
        {
          "name": "stdout",
          "output_type": "stream",
          "text": [
            "Primeiro nmr: 1\n",
            "Segundo nmr: 2\n"
          ]
        },
        {
          "output_type": "execute_result",
          "data": {
            "text/plain": [
              "1.0"
            ]
          },
          "metadata": {},
          "execution_count": 4
        }
      ]
    },
    {
      "cell_type": "code",
      "source": [
        "pss = int(input(\"Numero de seguidores participantes: \"))\n",
        "total = rd(pss)\n",
        "total"
      ],
      "metadata": {
        "colab": {
          "base_uri": "https://localhost:8080/"
        },
        "id": "kCRp30imq1_z",
        "outputId": "2c13a588-86b7-487f-bba5-8bc621211aeb"
      },
      "execution_count": 5,
      "outputs": [
        {
          "name": "stdout",
          "output_type": "stream",
          "text": [
            "Numero de seguidores participantes: 200\n"
          ]
        },
        {
          "output_type": "execute_result",
          "data": {
            "text/plain": [
              "123"
            ]
          },
          "metadata": {},
          "execution_count": 5
        }
      ]
    },
    {
      "cell_type": "code",
      "source": [
        "nome = input(\"Digite seu nome: \")\n",
        "\n",
        "token = rd(1000, 9998)\n",
        "\n",
        "print(f\"Olá, {nome}, o seu token de acesso é {token}! Seja bem-vindo(a)!\")"
      ],
      "metadata": {
        "colab": {
          "base_uri": "https://localhost:8080/"
        },
        "id": "VjDtEJGCrOZU",
        "outputId": "d8382f55-87ea-4b69-a456-174308e27720"
      },
      "execution_count": 6,
      "outputs": [
        {
          "output_type": "stream",
          "name": "stdout",
          "text": [
            "Digite seu nome: gio\n",
            "Olá, gio, o seu token de acesso é 8330! Seja bem-vindo(a)!\n"
          ]
        }
      ]
    },
    {
      "cell_type": "code",
      "source": [
        "from random import choices\n",
        "frutas = [\"maçã\", \"banana\", \"uva\", \"pêra\",\n",
        "          \"manga\", \"coco\", \"melancia\", \"mamão\",\n",
        "          \"laranja\", \"abacaxi\", \"kiwi\", \"ameixa\"]\n",
        "\n",
        "choices(frutas, k=3)"
      ],
      "metadata": {
        "colab": {
          "base_uri": "https://localhost:8080/"
        },
        "id": "erPcgFkEtqO1",
        "outputId": "00cf5481-c8a5-4703-d7d0-36ccba4904c2"
      },
      "execution_count": 7,
      "outputs": [
        {
          "output_type": "execute_result",
          "data": {
            "text/plain": [
              "['laranja', 'laranja', 'coco']"
            ]
          },
          "metadata": {},
          "execution_count": 7
        }
      ]
    },
    {
      "cell_type": "code",
      "source": [
        "from math import sqrt\n",
        "numeros = [2, 8, 15, 23, 91, 112, 256]\n",
        "num = []\n",
        "for i in numeros:\n",
        "  num.append(sqrt(i))\n",
        "\n",
        "for j in num:\n",
        "  print(f'{j} é inteiro? :', j // 1 == j)\n"
      ],
      "metadata": {
        "colab": {
          "base_uri": "https://localhost:8080/"
        },
        "id": "MZxhZiJVuEU0",
        "outputId": "4e854726-5ddc-4a03-e6d2-6af20e780a92"
      },
      "execution_count": 8,
      "outputs": [
        {
          "output_type": "stream",
          "name": "stdout",
          "text": [
            "1.4142135623730951 é inteiro? : False\n",
            "2.8284271247461903 é inteiro? : False\n",
            "3.872983346207417 é inteiro? : False\n",
            "4.795831523312719 é inteiro? : False\n",
            "9.539392014169456 é inteiro? : False\n",
            "10.583005244258363 é inteiro? : False\n",
            "16.0 é inteiro? : True\n"
          ]
        }
      ]
    },
    {
      "cell_type": "code",
      "source": [],
      "metadata": {
        "id": "LZEF_SiyvB-N"
      },
      "execution_count": 8,
      "outputs": []
    }
  ]
}